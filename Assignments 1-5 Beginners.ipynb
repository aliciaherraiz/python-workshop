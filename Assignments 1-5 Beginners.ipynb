{
  "nbformat": 4,
  "nbformat_minor": 0,
  "metadata": {
    "colab": {
      "name": "Untitled0.ipynb",
      "provenance": [],
      "authorship_tag": "ABX9TyMFuMX+1gk4KL5ZBlnsqb8w",
      "include_colab_link": true
    },
    "kernelspec": {
      "name": "python3",
      "display_name": "Python 3"
    }
  },
  "cells": [
    {
      "cell_type": "markdown",
      "metadata": {
        "id": "view-in-github",
        "colab_type": "text"
      },
      "source": [
        "<a href=\"https://colab.research.google.com/github/aliciaherraiz/CAB_Week1/blob/main/Assignments%201-5%20Beginners.ipynb\" target=\"_parent\"><img src=\"https://colab.research.google.com/assets/colab-badge.svg\" alt=\"Open In Colab\"/></a>"
      ]
    },
    {
      "cell_type": "code",
      "metadata": {
        "id": "dy1Gr_i5WmJZ",
        "colab": {
          "base_uri": "https://localhost:8080/"
        },
        "outputId": "1fac9133-d2b5-456d-d699-3a38be95ed17"
      },
      "source": [
        "# Solution to Q1\r\n",
        "\r\n",
        "years = [1999, 1995, 2005, 2010, 2007, 2006, 1994, 1996, 1979, 2008]\r\n",
        "age = []\r\n",
        "\r\n",
        "for i in years:\r\n",
        "\r\n",
        "    age.append(2019 - i)\r\n",
        "\r\n",
        "print(age)"
      ],
      "execution_count": 1,
      "outputs": [
        {
          "output_type": "stream",
          "text": [
            "[20, 24, 14, 9, 12, 13, 25, 23, 40, 11]\n"
          ],
          "name": "stdout"
        }
      ]
    },
    {
      "cell_type": "code",
      "metadata": {
        "id": "n0KTUbNBBgMC"
      },
      "source": [
        "# Solution to Q1 function\r\n",
        "\r\n",
        "# Sample input:   [1999, 1995, 2005, 2010, 2007, 2006, 1994, 1996, 1979, 2008]\r\n",
        "# Sample output: [20, 24, 14, 9, 12, 13, 25, 23, 40, 11]\r\n",
        "\r\n",
        "years = [1999, 1995, 2005, 2010, 2007, 2006, 1994, 1996, 1979, 2008]\r\n",
        "age = []\r\n",
        "def ages (years):\r\n",
        "    for i in years:\r\n",
        "       age.append(2019 - i)\r\n",
        "    return age\r\n"
      ],
      "execution_count": 2,
      "outputs": []
    },
    {
      "cell_type": "code",
      "metadata": {
        "colab": {
          "base_uri": "https://localhost:8080/"
        },
        "id": "L-HZDz4NBjxA",
        "outputId": "e064e992-06aa-4474-f75f-d2b0789199ed"
      },
      "source": [
        "ages(years)"
      ],
      "execution_count": 3,
      "outputs": [
        {
          "output_type": "execute_result",
          "data": {
            "text/plain": [
              "[20, 24, 14, 9, 12, 13, 25, 23, 40, 11]"
            ]
          },
          "metadata": {
            "tags": []
          },
          "execution_count": 3
        }
      ]
    },
    {
      "cell_type": "code",
      "metadata": {
        "colab": {
          "base_uri": "https://localhost:8080/"
        },
        "id": "MddTe9Y7BmKY",
        "outputId": "0a75b478-170e-4a71-9053-01e8aa22c7a4"
      },
      "source": [
        "# Solution to Q2\r\n",
        "\r\n",
        "age = [20, 24, 14, 9, 12, 13, 25, 23, 40, 11]\r\n",
        "age.remove(max(age))\r\n",
        "age.remove(min(age))\r\n",
        "print(age)"
      ],
      "execution_count": 4,
      "outputs": [
        {
          "output_type": "stream",
          "text": [
            "[20, 24, 14, 12, 13, 25, 23, 11]\n"
          ],
          "name": "stdout"
        }
      ]
    },
    {
      "cell_type": "code",
      "metadata": {
        "id": "4j86MjLFBqdc"
      },
      "source": [
        "# Solution to Q2 funtion\r\n",
        "\r\n",
        "# Sample input: [20, 24, 14, 9, 12, 13, 25, 23, 40, 11]\r\n",
        "# Sample output: [20, 24, 14, 12, 13, 25, 23, 11]\r\n",
        "\r\n",
        "age = [20, 24, 14, 9, 12, 13, 25, 23, 40, 11]\r\n",
        "\r\n",
        "def remove_ages (age):\r\n",
        "    age.remove(max(age))\r\n",
        "    age.remove(min(age))\r\n",
        "    return(age)"
      ],
      "execution_count": 5,
      "outputs": []
    },
    {
      "cell_type": "code",
      "metadata": {
        "colab": {
          "base_uri": "https://localhost:8080/"
        },
        "id": "mhtPLsXLBsrQ",
        "outputId": "3ccfb9bc-9e64-4e02-9539-83be6fd7fb9a"
      },
      "source": [
        "remove_ages(age)"
      ],
      "execution_count": 6,
      "outputs": [
        {
          "output_type": "execute_result",
          "data": {
            "text/plain": [
              "[20, 24, 14, 12, 13, 25, 23, 11]"
            ]
          },
          "metadata": {
            "tags": []
          },
          "execution_count": 6
        }
      ]
    },
    {
      "cell_type": "code",
      "metadata": {
        "colab": {
          "base_uri": "https://localhost:8080/"
        },
        "id": "yvZAEYAYBvxh",
        "outputId": "95321abe-fb58-4d71-b836-ca82c2556378"
      },
      "source": [
        "# Solution to Q3 \r\n",
        "\r\n",
        "berlin = [15, 13, 16, 18, 19, 10, 12]\r\n",
        "munich = [7, 13, 15, 20, 19, 18, 10, 16]\r\n",
        "\r\n",
        "age_of_customers = []\r\n",
        "for i in berlin:\r\n",
        "    if i in munich:\r\n",
        "        age_of_customers.append(i)\r\n",
        "\r\n",
        "print(age_of_customers)\r\n"
      ],
      "execution_count": 7,
      "outputs": [
        {
          "output_type": "stream",
          "text": [
            "[15, 13, 16, 18, 19, 10]\n"
          ],
          "name": "stdout"
        }
      ]
    },
    {
      "cell_type": "code",
      "metadata": {
        "id": "9oqda65DB255"
      },
      "source": [
        "# Solution to Q3 function\r\n",
        "\r\n",
        "# Sample input: [15, 13, 16, 18, 19, 10, 12 ], [7, 13, 15, 20, 19, 18, 10, 16]\r\n",
        "# Sample output: [15,13,16,18,19,10]\r\n",
        "\r\n",
        "berlin = [15, 13, 16, 18, 19, 10, 12]\r\n",
        "munich = [7, 13, 15, 20, 19, 18, 10, 16]\r\n",
        "age_of_customers = []\r\n",
        "def common_values_list (berlin, munich):\r\n",
        "    for i in berlin:\r\n",
        "        if i in munich:\r\n",
        "            age_of_customers.append(i)\r\n",
        "    return(age_of_customers)"
      ],
      "execution_count": 9,
      "outputs": []
    },
    {
      "cell_type": "code",
      "metadata": {
        "colab": {
          "base_uri": "https://localhost:8080/"
        },
        "id": "Wf8Zcg2HCETR",
        "outputId": "6deaa875-324c-4652-e571-69430713117e"
      },
      "source": [
        "common_values_list (berlin, munich)"
      ],
      "execution_count": 10,
      "outputs": [
        {
          "output_type": "execute_result",
          "data": {
            "text/plain": [
              "[15, 13, 16, 18, 19, 10]"
            ]
          },
          "metadata": {
            "tags": []
          },
          "execution_count": 10
        }
      ]
    },
    {
      "cell_type": "code",
      "metadata": {
        "colab": {
          "base_uri": "https://localhost:8080/"
        },
        "id": "qELmwfJ1CISY",
        "outputId": "e5c553c2-0d96-498e-cb71-67df4f2f52d8"
      },
      "source": [
        "# Solution to Q4\r\n",
        "\r\n",
        "# Sample input: [15,13,16,18,19,15,10]\r\n",
        "# Sample output: [15,13,16,18,19,10]\r\n",
        "\r\n",
        "duplicates = [15,13,16,18,19,15,10]\r\n",
        "age_without_duplicates = []\r\n",
        "for i in duplicates:\r\n",
        "    if i not in age_without_duplicates:\r\n",
        "        age_without_duplicates.append(i)\r\n",
        "print(age_without_duplicates)"
      ],
      "execution_count": 11,
      "outputs": [
        {
          "output_type": "stream",
          "text": [
            "[15, 13, 16, 18, 19, 10]\n"
          ],
          "name": "stdout"
        }
      ]
    },
    {
      "cell_type": "code",
      "metadata": {
        "id": "UBDM4uwoCLaY"
      },
      "source": [
        "# Solution to Q4 function\r\n",
        "\r\n",
        "# Sample input: [15,13,16,18,19,15,10]\r\n",
        "# Sample output: [15,13,16,18,19,10]\r\n",
        "\r\n",
        "duplicates = [15,13,16,18,19,15,10]\r\n",
        "age_without_duplicates = []\r\n",
        "def list_no_duplicates(duplicates):\r\n",
        "    for i in duplicates:\r\n",
        "        if i not in age_without_duplicates:\r\n",
        "            age_without_duplicates.append(i)\r\n",
        "    return(age_without_duplicates)"
      ],
      "execution_count": 13,
      "outputs": []
    },
    {
      "cell_type": "code",
      "metadata": {
        "colab": {
          "base_uri": "https://localhost:8080/"
        },
        "id": "ymZKwz1kCP1N",
        "outputId": "280738e8-97c1-457a-be90-5f997e50dfd2"
      },
      "source": [
        "list_no_duplicates(duplicates)"
      ],
      "execution_count": 14,
      "outputs": [
        {
          "output_type": "execute_result",
          "data": {
            "text/plain": [
              "[15, 13, 16, 18, 19, 10]"
            ]
          },
          "metadata": {
            "tags": []
          },
          "execution_count": 14
        }
      ]
    },
    {
      "cell_type": "code",
      "metadata": {
        "colab": {
          "base_uri": "https://localhost:8080/"
        },
        "id": "p_oxSUzQCSOe",
        "outputId": "5233a5cd-6415-40c1-bcdf-25e32653adfd"
      },
      "source": [
        "# Solution to Q5 on logic but not on function (Part A)\r\n",
        "\r\n",
        "age_of_customers = [15,13,16,18,19,15,10]\r\n",
        "x = 15\r\n",
        "age = x\r\n",
        "x in age_of_customers"
      ],
      "execution_count": 17,
      "outputs": [
        {
          "output_type": "execute_result",
          "data": {
            "text/plain": [
              "True"
            ]
          },
          "metadata": {
            "tags": []
          },
          "execution_count": 17
        }
      ]
    },
    {
      "cell_type": "code",
      "metadata": {
        "colab": {
          "base_uri": "https://localhost:8080/"
        },
        "id": "JqfpBHAxCUVI",
        "outputId": "69ff6eb2-f7f8-495a-a2ab-365a5b83c661"
      },
      "source": [
        "# Solution to Q5 on logic but not on function (Part B)\r\n",
        "\r\n",
        "age_of_customers = [15,13,16,18,19,15,10]\r\n",
        "y = 28\r\n",
        "age = y\r\n",
        "y in age_of_customers"
      ],
      "execution_count": 18,
      "outputs": [
        {
          "output_type": "execute_result",
          "data": {
            "text/plain": [
              "False"
            ]
          },
          "metadata": {
            "tags": []
          },
          "execution_count": 18
        }
      ]
    },
    {
      "cell_type": "code",
      "metadata": {
        "id": "4_0Fs6uLCitj"
      },
      "source": [
        "# Solution to Q5 funcion\r\n",
        "\r\n",
        "# Sample input: [15,13,16,18,19,15,10], 15\r\n",
        "# Sample output: True\r\n",
        "\r\n",
        "# Sample input: [15,13,16,18,19,15,10], 28\r\n",
        "# Sample output: False\r\n",
        "\r\n",
        "age_of_customers = [15,13,16,18,19,15,10]\r\n",
        "x = 15\r\n",
        "\r\n",
        "def find(age_of_customers, x):\r\n",
        "    if x in age_of_customers:\r\n",
        "        return(\"True\")\r\n",
        "    if x not in age_of_customers:\r\n",
        "         return(\"False\")"
      ],
      "execution_count": 20,
      "outputs": []
    },
    {
      "cell_type": "code",
      "metadata": {
        "colab": {
          "base_uri": "https://localhost:8080/",
          "height": 35
        },
        "id": "4hlBi9MuCog6",
        "outputId": "83dc845e-f565-44ed-d6fb-2a3dff5e792e"
      },
      "source": [
        "find(age_of_customers, x)"
      ],
      "execution_count": 21,
      "outputs": [
        {
          "output_type": "execute_result",
          "data": {
            "application/vnd.google.colaboratory.intrinsic+json": {
              "type": "string"
            },
            "text/plain": [
              "'True'"
            ]
          },
          "metadata": {
            "tags": []
          },
          "execution_count": 21
        }
      ]
    }
  ]
}